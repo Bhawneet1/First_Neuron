{
  "nbformat": 4,
  "nbformat_minor": 0,
  "metadata": {
    "colab": {
      "provenance": [],
      "authorship_tag": "ABX9TyME+zsUAx7A3/ubk67f6LiZ",
      "include_colab_link": true
    },
    "kernelspec": {
      "name": "python3",
      "display_name": "Python 3"
    },
    "language_info": {
      "name": "python"
    }
  },
  "cells": [
    {
      "cell_type": "markdown",
      "metadata": {
        "id": "view-in-github",
        "colab_type": "text"
      },
      "source": [
        "<a href=\"https://colab.research.google.com/github/Bhawneet1/First_Neuron/blob/main/FirstNeuralNetwork.ipynb\" target=\"_parent\"><img src=\"https://colab.research.google.com/assets/colab-badge.svg\" alt=\"Open In Colab\"/></a>"
      ]
    },
    {
      "cell_type": "markdown",
      "source": [
        "### My first neuron\n",
        "The inputs can increase and corresponding weights increase but bias always remain one for one neuron"
      ],
      "metadata": {
        "id": "arhjR2pm8goe"
      }
    },
    {
      "cell_type": "code",
      "execution_count": 2,
      "metadata": {
        "colab": {
          "base_uri": "https://localhost:8080/"
        },
        "id": "i2mitfAN72mq",
        "outputId": "7b48d060-d80a-461c-b578-3990631a3d2f"
      },
      "outputs": [
        {
          "output_type": "execute_result",
          "data": {
            "text/plain": [
              "2.3"
            ]
          },
          "metadata": {},
          "execution_count": 2
        }
      ],
      "source": [
        "inputs = [1,2,3]\n",
        "weights=[0.2,0.8,-0.5]\n",
        "bias =2\n",
        "\n",
        "output = inputs[0]*weights[0] + inputs[1]*weights[1] + inputs[2]*weights[2]+bias\n",
        "output"
      ]
    },
    {
      "cell_type": "code",
      "source": [
        "inputs = [1,2,3,4]\n",
        "weights=[0.2,0.8,-0.5,1.0]\n",
        "bias =2\n",
        "\n",
        "output = inputs[0]*weights[0] + inputs[1]*weights[1] + inputs[2]*weights[2] + inputs[3]*weights[3] +bias\n",
        "output"
      ],
      "metadata": {
        "colab": {
          "base_uri": "https://localhost:8080/"
        },
        "id": "bFMHvXbr8sT5",
        "outputId": "11d3398c-586d-40f9-9312-a624f446ef51"
      },
      "execution_count": 3,
      "outputs": [
        {
          "output_type": "execute_result",
          "data": {
            "text/plain": [
              "6.3"
            ]
          },
          "metadata": {},
          "execution_count": 3
        }
      ]
    },
    {
      "cell_type": "code",
      "source": [
        "inputs = [1,2,3,2.5]\n",
        "weights = [[0.2, 0.8, -0.5, 1],\n",
        " [0.5, -0.91, 0.26, -0.5],\n",
        " [-0.26, -0.27, 0.17, 0.87]]\n",
        "weights1 = weights[0] #LIST OF WEIGHTS ASSOCIATED WITH 1ST NEURON : W11, W12, W13, W14\n",
        "weights2 = weights[1] #LIST OF WEIGHTS ASSOCIATED WITH 2ND NEURON : W21, W22, W23, W24\n",
        "weights3 = weights[2] #LIST OF WEIGHTS ASSOCIATED WITH 3RD NEURON : W31, W32, W33, W34\n",
        "\n",
        "\n",
        "biases = [2, 3, 0.5]\n",
        "\n",
        "bias1 = 2\n",
        "bias2 = 3\n",
        "bias3 = 0.5\n",
        "\n",
        "outputs = [\n",
        " # Neuron 1:\n",
        " inputs[0]*weights1[0] +\n",
        " inputs[1]*weights1[1] +\n",
        " inputs[2]*weights1[2] +\n",
        " inputs[3]*weights1[3] + bias1,\n",
        " # Neuron 2:\n",
        " inputs[0]*weights2[0] +\n",
        " inputs[1]*weights2[1] +\n",
        " inputs[2]*weights2[2] +\n",
        " inputs[3]*weights2[3] + bias2,\n",
        " # Neuron 3:\n",
        " inputs[0]*weights3[0] +\n",
        " inputs[1]*weights3[1] +\n",
        " inputs[2]*weights3[2] +\n",
        " inputs[3]*weights3[3] + bias3]\n",
        "\n",
        "print(outputs)"
      ],
      "metadata": {
        "colab": {
          "base_uri": "https://localhost:8080/"
        },
        "id": "T6CbUsub9PEd",
        "outputId": "c4eb3a2d-9da7-44e3-e49a-22356e3d8194"
      },
      "execution_count": 4,
      "outputs": [
        {
          "output_type": "stream",
          "name": "stdout",
          "text": [
            "[4.8, 1.21, 2.385]\n"
          ]
        }
      ]
    },
    {
      "cell_type": "code",
      "source": [
        "# loop for neurons\n",
        "inputs = [1, 2, 3, 2.5]\n",
        "\n",
        "##LIST OF WEIGHTS\n",
        "weights = [[0.2, 0.8, -0.5, 1],\n",
        " [0.5, -0.91, 0.26, -0.5],\n",
        " [-0.26, -0.27, 0.17, 0.87]]\n",
        "\n",
        "##LIST OF BIASES\n",
        "biases = [2, 3, 0.5]\n",
        "\n",
        "# Output of current layer\n",
        "layer_outputs = []\n",
        "\n",
        "# For each neuron\n",
        "for neuron_weights, neuron_bias in zip(weights, biases):\n",
        " # Zeroed output of given neuron\n",
        " neuron_output = 0\n",
        " # For each input and weight to the neuron\n",
        " for n_input, weight in zip(inputs, neuron_weights):\n",
        " # Multiply this input by associated weight\n",
        " # and add to the neuron's output variable\n",
        "   neuron_output += n_input*weight ## W31*X1 + W32*X2 + W33*X3 + W34*X4\n",
        "   # Add bias\n",
        " neuron_output += neuron_bias ## ## W31*X1 + W32*X2 + W33*X3 + W34*X4 + B3\n",
        " # Put neuron's result to the layer's output list\n",
        " layer_outputs.append(neuron_output)\n",
        "print(layer_outputs)"
      ],
      "metadata": {
        "colab": {
          "base_uri": "https://localhost:8080/"
        },
        "id": "YD77Whdk_PLF",
        "outputId": "edf98bb8-7db0-474b-dae3-b6e3602e154b"
      },
      "execution_count": 5,
      "outputs": [
        {
          "output_type": "stream",
          "name": "stdout",
          "text": [
            "[4.8, 1.21, 2.385]\n"
          ]
        }
      ]
    }
  ]
}